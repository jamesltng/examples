{
 "cells": [
  {
   "cell_type": "code",
   "execution_count": 8,
   "metadata": {
    "collapsed": false,
    "scrolled": true
   },
   "outputs": [],
   "source": [
    "import pandas as pd\n",
    "import requests\n",
    "from bs4 import BeautifulSoup\n",
    "import re\n",
    "import bleach"
   ]
  },
  {
   "cell_type": "code",
   "execution_count": 9,
   "metadata": {
    "collapsed": false
   },
   "outputs": [],
   "source": [
    "def getPersonInfo(nid):\n",
    "    url_template = \"https://eds.nd.edu/cgi-bin/nd_ldap_search.pl?displayformat=/ndcso_tmp.html&ldapfilter=uid={nid}\"\n",
    "    url = url_template.format(nid=nid)\n",
    "    try:\n",
    "        r = requests.get(url)\n",
    "    except requests.exceptions.ConnectionError:\n",
    "        return \n",
    "    \n",
    "    soup = BeautifulSoup(r.text)\n",
    "\n",
    "    if(soup.find(text=\"Found 0 entries.\") != None):\n",
    "        return\n",
    "    else:\n",
    "        netid = soup.find(text=\"NetID:\")\n",
    "        b_tag = netid.parent\n",
    "        td_tag = b_tag.parent\n",
    "        next_td_tag = td_tag.findNext('td')\n",
    "        next2_td_tag = next_td_tag.findNext('td')\n",
    "        #print next2_td_tag.contents[0]\n",
    "        cleannetid = bleach.clean(next2_td_tag, tags=[], strip=True)\n",
    "        valnetid=[]\n",
    "        valnetid.append(cleannetid)\n",
    "\n",
    "        dept = soup.find(text=\"Department:\")\n",
    "        b_tag = dept.parent\n",
    "        td_tag = b_tag.parent\n",
    "        next_td_tag = td_tag.findNext('td')\n",
    "        next2_td_tag = next_td_tag.findNext('td')\n",
    "        cleandept = bleach.clean(next2_td_tag, tags=[], strip=True)\n",
    "        valdept=[]\n",
    "        valdept.append(cleandept)\n",
    "\n",
    "        title = soup.find(text=\"Title:\")\n",
    "        b_tag = title.parent\n",
    "        td_tag = b_tag.parent\n",
    "        next_td_tag = td_tag.findNext('td')\n",
    "        next2_td_tag = next_td_tag.findNext('td')\n",
    "        cleantitle = bleach.clean(next2_td_tag, tags=[], strip=True)\n",
    "        valtitle=[]\n",
    "        valtitle.append(cleantitle)\n",
    "\n",
    "        affil = soup.find(text=\"Affiliation:\")\n",
    "        b_tag = affil.parent\n",
    "        td_tag = b_tag.parent\n",
    "        next_td_tag = td_tag.findNext('td')\n",
    "        next2_td_tag = next_td_tag.findNext('td')\n",
    "        cleanaffil = bleach.clean(next2_td_tag, tags=[], strip=True)\n",
    "        valaffil=[]\n",
    "        valaffil.append(cleanaffil)\n",
    "\n",
    "        curric = soup.find(text=\"Curriculum:\")\n",
    "        b_tag = curric.parent\n",
    "        td_tag = b_tag.parent\n",
    "        next_td_tag = td_tag.findNext('td')\n",
    "        next2_td_tag = next_td_tag.findNext('td')\n",
    "        cleancurric = bleach.clean(next2_td_tag, tags=[], strip=True)\n",
    "        valcurric=[]\n",
    "        valcurric.append(cleancurric)\n",
    "\n",
    "        email = soup.find(text=\"Preferred email:\")\n",
    "        b_tag = email.parent\n",
    "        td_tag = b_tag.parent\n",
    "        next_td_tag = td_tag.findNext('td')\n",
    "        next2_td_tag = next_td_tag.findNext('td')\n",
    "        cleanemail = bleach.clean(next2_td_tag, tags=[], strip=True)\n",
    "        valemail=[]\n",
    "        valemail.append(cleanemail)\n",
    "\n",
    "        df = pd.DataFrame({'netid':valnetid, 'dept':valdept, 'title':valtitle, 'affil':valaffil, 'curric':valcurric, 'email':valemail})\n",
    "        df=df[['netid', 'email', 'affil','dept', 'title','curric']]\n",
    "        return df\n"
   ]
  },
  {
   "cell_type": "code",
   "execution_count": 10,
   "metadata": {
    "collapsed": true
   },
   "outputs": [],
   "source": [
    "persons_df=pd.DataFrame()"
   ]
  },
  {
   "cell_type": "code",
   "execution_count": 11,
   "metadata": {
    "collapsed": true
   },
   "outputs": [],
   "source": [
    "netidlist=pd.read_csv('netids.csv',sep='\\n')"
   ]
  },
  {
   "cell_type": "code",
   "execution_count": 12,
   "metadata": {
    "collapsed": false
   },
   "outputs": [],
   "source": [
    "# for who in ['jng2','slee45','edziadul','jthurk','jvecchio','eschnurr']:\n",
    "for index, row in netidlist.iterrows():\n",
    "    who = row['netid']\n",
    "    pers_df = getPersonInfo(who)\n",
    "    persons_df = persons_df.append(pers_df)"
   ]
  },
  {
   "cell_type": "code",
   "execution_count": 13,
   "metadata": {
    "collapsed": false
   },
   "outputs": [
    {
     "data": {
      "text/html": [
       "<div>\n",
       "<table border=\"1\" class=\"dataframe\">\n",
       "  <thead>\n",
       "    <tr style=\"text-align: right;\">\n",
       "      <th></th>\n",
       "      <th>netid</th>\n",
       "      <th>email</th>\n",
       "      <th>affil</th>\n",
       "      <th>dept</th>\n",
       "      <th>title</th>\n",
       "      <th>curric</th>\n",
       "    </tr>\n",
       "  </thead>\n",
       "  <tbody>\n",
       "    <tr>\n",
       "      <th>0</th>\n",
       "      <td>jng2</td>\n",
       "      <td>james.ng@nd.edu</td>\n",
       "      <td>Faculty</td>\n",
       "      <td>Hesburgh Libraries</td>\n",
       "      <td>Assistant Librarian</td>\n",
       "      <td></td>\n",
       "    </tr>\n",
       "    <tr>\n",
       "      <th>1</th>\n",
       "      <td>slee45</td>\n",
       "      <td></td>\n",
       "      <td>Student</td>\n",
       "      <td></td>\n",
       "      <td></td>\n",
       "      <td>Graduate Business School</td>\n",
       "    </tr>\n",
       "  </tbody>\n",
       "</table>\n",
       "</div>"
      ],
      "text/plain": [
       "    netid            email    affil                dept                title  \\\n",
       "0    jng2  james.ng@nd.edu  Faculty  Hesburgh Libraries  Assistant Librarian   \n",
       "1  slee45                   Student                                            \n",
       "\n",
       "                     curric  \n",
       "0                            \n",
       "1  Graduate Business School  "
      ]
     },
     "execution_count": 13,
     "metadata": {},
     "output_type": "execute_result"
    }
   ],
   "source": [
    "persons_df.reset_index(drop=True)"
   ]
  },
  {
   "cell_type": "code",
   "execution_count": 14,
   "metadata": {
    "collapsed": true
   },
   "outputs": [],
   "source": [
    "persons_df.to_csv('ndpersonsinfo.csv',index=False)"
   ]
  },
  {
   "cell_type": "code",
   "execution_count": null,
   "metadata": {
    "collapsed": true
   },
   "outputs": [],
   "source": []
  }
 ],
 "metadata": {
  "kernelspec": {
   "display_name": "Python 2",
   "language": "python",
   "name": "python2"
  },
  "language_info": {
   "codemirror_mode": {
    "name": "ipython",
    "version": 2
   },
   "file_extension": ".py",
   "mimetype": "text/x-python",
   "name": "python",
   "nbconvert_exporter": "python",
   "pygments_lexer": "ipython2",
   "version": "2.7.10"
  }
 },
 "nbformat": 4,
 "nbformat_minor": 0
}
