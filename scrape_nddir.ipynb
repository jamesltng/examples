{
 "cells": [
  {
   "cell_type": "code",
   "execution_count": 1,
   "metadata": {
    "collapsed": false,
    "scrolled": true
   },
   "outputs": [],
   "source": [
    "import pandas as pd\n",
    "import requests\n",
    "from bs4 import BeautifulSoup\n",
    "import bleach\n",
    "import warnings\n",
    "warnings.filterwarnings('ignore')"
   ]
  },
  {
   "cell_type": "code",
   "execution_count": 2,
   "metadata": {
    "collapsed": false
   },
   "outputs": [],
   "source": [
    "def getPersonInfo(nid):\n",
    "    url_template = \"https://eds.nd.edu/cgi-bin/nd_ldap_search.pl?displayformat=/ndcso_tmp.html&ldapfilter=uid={who}\"\n",
    "    url = url_template.format(who=nid)\n",
    "    try:\n",
    "        r = requests.get(url)\n",
    "    except requests.exceptions.ConnectionError:\n",
    "        return \n",
    "    \n",
    "    soup = BeautifulSoup(r.text)\n",
    "\n",
    "    if(soup.find(text=\"Found 0 entries.\") != None):\n",
    "        return\n",
    "    else:\n",
    "        netid = soup.find(text=\"NetID:\")\n",
    "        valnetid = cleanTagContents(netid)\n",
    "        \n",
    "        dept = soup.find(text=\"Department:\")\n",
    "        valdept = cleanTagContents(dept)\n",
    "        \n",
    "        title = soup.find(text=\"Title:\")\n",
    "        valtitle = cleanTagContents(title)\n",
    "        \n",
    "        affil = soup.find(text=\"Affiliation:\")\n",
    "        valaffil = cleanTagContents(affil)\n",
    "        \n",
    "        curric = soup.find(text=\"Curriculum:\")\n",
    "        valcurric = cleanTagContents(curric)\n",
    "        \n",
    "        email = soup.find(text=\"Preferred email:\")\n",
    "        valemail = cleanTagContents(email)\n",
    "\n",
    "        df = pd.DataFrame({'netid':valnetid, 'dept':valdept, 'title':valtitle, 'affil':valaffil, 'curric':valcurric, 'email':valemail})\n",
    "        df=df[['netid', 'email', 'affil','dept', 'title','curric']]\n",
    "        return df\n"
   ]
  },
  {
   "cell_type": "code",
   "execution_count": 3,
   "metadata": {
    "collapsed": false
   },
   "outputs": [],
   "source": [
    "def cleanTagContents(what):\n",
    "        b_tag = what.parent\n",
    "        td_tag = b_tag.parent\n",
    "        next_td_tag = td_tag.findNext('td')\n",
    "        next2_td_tag = next_td_tag.findNext('td')\n",
    "        #print next2_td_tag.contents[0]\n",
    "        cleaned = bleach.clean(next2_td_tag, tags=[], strip=True)\n",
    "        val =[]\n",
    "        val.append(cleaned)\n",
    "        return val\n"
   ]
  },
  {
   "cell_type": "code",
   "execution_count": 4,
   "metadata": {
    "collapsed": true
   },
   "outputs": [],
   "source": [
    "# create empty dataframe\n",
    "persons_df=pd.DataFrame()"
   ]
  },
  {
   "cell_type": "code",
   "execution_count": 5,
   "metadata": {
    "collapsed": true
   },
   "outputs": [],
   "source": [
    "# read in list of netid's from external file\n",
    "netidlist=pd.read_csv('netids.csv',sep='\\n')"
   ]
  },
  {
   "cell_type": "code",
   "execution_count": 6,
   "metadata": {
    "collapsed": false
   },
   "outputs": [],
   "source": [
    "# loop over list of netid's\n",
    "for index, row in netidlist.iterrows():\n",
    "    who = row['netid']\n",
    "    pers_df = getPersonInfo(who)\n",
    "    persons_df = persons_df.append(pers_df)"
   ]
  },
  {
   "cell_type": "code",
   "execution_count": 7,
   "metadata": {
    "collapsed": false
   },
   "outputs": [
    {
     "data": {
      "text/html": [
       "<div>\n",
       "<table border=\"1\" class=\"dataframe\">\n",
       "  <thead>\n",
       "    <tr style=\"text-align: right;\">\n",
       "      <th></th>\n",
       "      <th>netid</th>\n",
       "      <th>email</th>\n",
       "      <th>affil</th>\n",
       "      <th>dept</th>\n",
       "      <th>title</th>\n",
       "      <th>curric</th>\n",
       "    </tr>\n",
       "  </thead>\n",
       "  <tbody>\n",
       "    <tr>\n",
       "      <th>0</th>\n",
       "      <td>jng2</td>\n",
       "      <td>james.ng@nd.edu</td>\n",
       "      <td>Faculty</td>\n",
       "      <td>Hesburgh Libraries</td>\n",
       "      <td>Assistant Librarian</td>\n",
       "      <td></td>\n",
       "    </tr>\n",
       "    <tr>\n",
       "      <th>1</th>\n",
       "      <td>slee45</td>\n",
       "      <td></td>\n",
       "      <td>Student</td>\n",
       "      <td></td>\n",
       "      <td></td>\n",
       "      <td>Graduate Business School</td>\n",
       "    </tr>\n",
       "  </tbody>\n",
       "</table>\n",
       "</div>"
      ],
      "text/plain": [
       "    netid            email    affil                dept                title  \\\n",
       "0    jng2  james.ng@nd.edu  Faculty  Hesburgh Libraries  Assistant Librarian   \n",
       "1  slee45                   Student                                            \n",
       "\n",
       "                     curric  \n",
       "0                            \n",
       "1  Graduate Business School  "
      ]
     },
     "execution_count": 7,
     "metadata": {},
     "output_type": "execute_result"
    }
   ],
   "source": [
    "persons_df.reset_index(drop=True)"
   ]
  },
  {
   "cell_type": "code",
   "execution_count": 8,
   "metadata": {
    "collapsed": true
   },
   "outputs": [],
   "source": [
    "# save as CSV\n",
    "persons_df.to_csv('ndpersonsinfo.csv',index=False)"
   ]
  }
 ],
 "metadata": {
  "kernelspec": {
   "display_name": "Python 2",
   "language": "python",
   "name": "python2"
  },
  "language_info": {
   "codemirror_mode": {
    "name": "ipython",
    "version": 2
   },
   "file_extension": ".py",
   "mimetype": "text/x-python",
   "name": "python",
   "nbconvert_exporter": "python",
   "pygments_lexer": "ipython2",
   "version": "2.7.11"
  }
 },
 "nbformat": 4,
 "nbformat_minor": 0
}
